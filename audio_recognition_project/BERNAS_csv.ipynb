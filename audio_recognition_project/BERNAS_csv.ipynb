{
  "nbformat": 4,
  "nbformat_minor": 0,
  "metadata": {
    "colab": {
      "provenance": []
    },
    "kernelspec": {
      "name": "python3",
      "display_name": "Python 3"
    },
    "language_info": {
      "name": "python"
    }
  },
  "cells": [
    {
      "cell_type": "code",
      "execution_count": null,
      "metadata": {
        "id": "XuhDubZEPJxN",
        "colab": {
          "base_uri": "https://localhost:8080/"
        },
        "outputId": "62991e15-ca07-4abc-f221-19d7c9674fa2"
      },
      "outputs": [
        {
          "output_type": "stream",
          "name": "stderr",
          "text": [
            "<ipython-input-4-1cd8a863b338>:8: UserWarning: PySoundFile failed. Trying audioread instead.\n",
            "  y, sr = librosa.load(audio_path, sr=None)\n",
            "/usr/local/lib/python3.10/dist-packages/librosa/core/audio.py:184: FutureWarning: librosa.core.audio.__audioread_load\n",
            "\tDeprecated as of librosa version 0.10.0.\n",
            "\tIt will be removed in librosa version 1.0.\n",
            "  y, sr_native = __audioread_load(path, offset, duration, dtype)\n"
          ]
        },
        {
          "output_type": "stream",
          "name": "stdout",
          "text": [
            "Could not process file thevoiceECE_1.wav: [Errno 2] No such file or directory: 'thevoiceECE_1.wav'\n",
            "Could not process file thevoiceECE_2.wav: [Errno 2] No such file or directory: 'thevoiceECE_2.wav'\n",
            "Could not process file thevoiceECE_3.wav: [Errno 2] No such file or directory: 'thevoiceECE_3.wav'\n",
            "Could not process file thevoiceECE_4.wav: [Errno 2] No such file or directory: 'thevoiceECE_4.wav'\n",
            "Could not process file thevoiceECE_5.wav: [Errno 2] No such file or directory: 'thevoiceECE_5.wav'\n",
            "Could not process file thevoiceECE_6.wav: [Errno 2] No such file or directory: 'thevoiceECE_6.wav'\n",
            "Could not process file thevoiceECE_7.wav: [Errno 2] No such file or directory: 'thevoiceECE_7.wav'\n",
            "Could not process file thevoiceECE_8.wav: [Errno 2] No such file or directory: 'thevoiceECE_8.wav'\n",
            "Could not process file thevoiceECE_9.wav: [Errno 2] No such file or directory: 'thevoiceECE_9.wav'\n",
            "Final MFCC Matrix Shape:  (100, 1300)\n",
            "Final MFCC matrix saved to final_mfcc_matrix.csv\n"
          ]
        }
      ],
      "source": [
        "import librosa\n",
        "import numpy as np\n",
        "\n",
        "def extract_mfcc_coefficients(audio_path, total_coeffs=1300, n_mfcc=13):\n",
        "    \"\"\"\n",
        "    Extracts the first 'total_coeffs' MFCC coefficients from an audio file.\n",
        "    \"\"\"\n",
        "    y, sr = librosa.load(audio_path, sr=None)\n",
        "\n",
        "    # Compute MFCCs with 13 coefficients per frame\n",
        "    mfcc = librosa.feature.mfcc(y=y, sr=sr, n_mfcc=n_mfcc)\n",
        "\n",
        "    # Flatten to get a single-dimensional array and take the first 1300 coefficients\n",
        "    mfcc_flat = mfcc.T.flatten()[:total_coeffs]\n",
        "\n",
        "    # If the flattened array has less than 1300 coefficients, pad with zeros\n",
        "    if len(mfcc_flat) < total_coeffs:\n",
        "        mfcc_flat = np.pad(mfcc_flat, (0, total_coeffs - len(mfcc_flat)), mode='constant')\n",
        "\n",
        "    return mfcc_flat\n",
        "\n",
        "def generate_mfcc_matrix(num_files=100, total_coeffs=1300, file_prefix=\"thevoiceECE_\"):\n",
        "    \"\"\"\n",
        "    Loops through audio files named thevoiceECE_01.wav to thevoiceECE_100.wav,\n",
        "    extracts MFCCs, and generates a matrix with shape (100, 1300).\n",
        "    \"\"\"\n",
        "    mfcc_matrix = np.zeros((num_files, total_coeffs))\n",
        "\n",
        "    for i in range(1, num_files + 1):\n",
        "        audio_path = f\"{file_prefix}{i}.wav\"  # Generates names \"thevoiceECE1.wav\", \"thevoiceECE_2.wav\", ..., \"thevoiceECE_100.wav\"\n",
        "        try:\n",
        "            # Extract the first 1300 MFCC coefficients for each file\n",
        "            mfcc_coeffs = extract_mfcc_coefficients(audio_path, total_coeffs=total_coeffs)\n",
        "            mfcc_matrix[i - 1, :] = mfcc_coeffs\n",
        "        except Exception as e:\n",
        "            print(f\"Could not process file {audio_path}: {e}\")\n",
        "\n",
        "    return mfcc_matrix\n",
        "\n",
        "def save_matrix_to_csv(matrix, output_path=\"final_mfcc_matrix.csv\"):\n",
        "    \"\"\"\n",
        "    Saves the MFCC matrix to a CSV file.\n",
        "    \"\"\"\n",
        "    np.savetxt(output_path, matrix, delimiter=',')\n",
        "    print(f\"Final MFCC matrix saved to {output_path}\")\n",
        "\n",
        "def main():\n",
        "    # Generate the MFCC matrix from 100 audio files\n",
        "    mfcc_matrix = generate_mfcc_matrix()\n",
        "\n",
        "    # Check matrix shape for confirmation\n",
        "    print(\"Final MFCC Matrix Shape: \", mfcc_matrix.shape)  # Should be (100, 1300)\n",
        "\n",
        "    # Save the matrix to a CSV file\n",
        "    save_matrix_to_csv(mfcc_matrix)\n",
        "\n",
        "if __name__ == \"__main__\":\n",
        "    main()"
      ]
    }
  ]
}